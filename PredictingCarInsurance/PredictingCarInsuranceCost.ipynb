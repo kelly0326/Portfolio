{
 "cells": [
  {
   "cell_type": "markdown",
   "id": "97db76dd",
   "metadata": {},
   "source": [
    "# Predicting Car Insurance Premium"
   ]
  },
  {
   "cell_type": "markdown",
   "id": "fa9414ad",
   "metadata": {},
   "source": [
    "## Introduction"
   ]
  },
  {
   "cell_type": "code",
   "execution_count": 45,
   "id": "66033480",
   "metadata": {},
   "outputs": [],
   "source": [
    "# The objective of this project is to leverage data-driven approaches and predictive modeling techniques \n",
    "# to develop a robust framework for estimating car insurance costs. \n",
    "# By analyzing historical data and identifying patterns within various attributes, \n",
    "# I aim to build a predictive model that accurately forecasts insurance premiums based on individual characteristics. \n",
    "# This predictive model will enable insurance companies to streamline their underwriting processes, \n",
    "# optimize pricing strategies, and offer competitive premiums tailored to each customer's risk profile."
   ]
  },
  {
   "cell_type": "markdown",
   "id": "889b2b59",
   "metadata": {},
   "source": [
    "## Data Sources"
   ]
  },
  {
   "cell_type": "code",
   "execution_count": 46,
   "id": "99e6899b",
   "metadata": {},
   "outputs": [],
   "source": [
    "# Car Insurance: https://www.bankrate.com/insurance/car/auto-insurance-statistics/#auto-insurance-costs-by-state\n",
    "# State Data: https://www.kff.org/state-category/demographics-and-the-economy/"
   ]
  },
  {
   "cell_type": "markdown",
   "id": "dfb00914",
   "metadata": {},
   "source": [
    "## Get Car Insurance Data"
   ]
  },
  {
   "cell_type": "code",
   "execution_count": 1,
   "id": "5cce179d",
   "metadata": {},
   "outputs": [],
   "source": [
    "# Import some necessary libraries/packages\n",
    "import pandas as pd\n",
    "import numpy as np\n",
    "import seaborn as sns\n",
    "import matplotlib.pyplot as plt\n",
    "\n",
    "\n",
    "# Import warnings and set filter warnings to ignore due to the use of deprecated code  \n",
    "import warnings\n",
    "warnings.filterwarnings('ignore')"
   ]
  },
  {
   "cell_type": "code",
   "execution_count": 2,
   "id": "29647b87",
   "metadata": {},
   "outputs": [
    {
     "data": {
      "text/html": [
       "<div>\n",
       "<style scoped>\n",
       "    .dataframe tbody tr th:only-of-type {\n",
       "        vertical-align: middle;\n",
       "    }\n",
       "\n",
       "    .dataframe tbody tr th {\n",
       "        vertical-align: top;\n",
       "    }\n",
       "\n",
       "    .dataframe thead th {\n",
       "        text-align: right;\n",
       "    }\n",
       "</style>\n",
       "<table border=\"1\" class=\"dataframe\">\n",
       "  <thead>\n",
       "    <tr style=\"text-align: right;\">\n",
       "      <th></th>\n",
       "      <th>Age</th>\n",
       "      <th>AnnualPremium</th>\n",
       "      <th>State</th>\n",
       "      <th>DrivingIncident</th>\n",
       "      <th>Gender</th>\n",
       "    </tr>\n",
       "  </thead>\n",
       "  <tbody>\n",
       "    <tr>\n",
       "      <th>0</th>\n",
       "      <td>16</td>\n",
       "      <td>5203.0</td>\n",
       "      <td>Alabama</td>\n",
       "      <td>Clean</td>\n",
       "      <td>M</td>\n",
       "    </tr>\n",
       "    <tr>\n",
       "      <th>1</th>\n",
       "      <td>18</td>\n",
       "      <td>8127.0</td>\n",
       "      <td>Alabama</td>\n",
       "      <td>Clean</td>\n",
       "      <td>M</td>\n",
       "    </tr>\n",
       "    <tr>\n",
       "      <th>2</th>\n",
       "      <td>20</td>\n",
       "      <td>5691.0</td>\n",
       "      <td>Alabama</td>\n",
       "      <td>Clean</td>\n",
       "      <td>M</td>\n",
       "    </tr>\n",
       "    <tr>\n",
       "      <th>3</th>\n",
       "      <td>25</td>\n",
       "      <td>2807.0</td>\n",
       "      <td>Alabama</td>\n",
       "      <td>Clean</td>\n",
       "      <td>M</td>\n",
       "    </tr>\n",
       "    <tr>\n",
       "      <th>4</th>\n",
       "      <td>30</td>\n",
       "      <td>2356.0</td>\n",
       "      <td>Alabama</td>\n",
       "      <td>Clean</td>\n",
       "      <td>M</td>\n",
       "    </tr>\n",
       "  </tbody>\n",
       "</table>\n",
       "</div>"
      ],
      "text/plain": [
       "   Age  AnnualPremium    State DrivingIncident Gender\n",
       "0   16         5203.0  Alabama           Clean      M\n",
       "1   18         8127.0  Alabama           Clean      M\n",
       "2   20         5691.0  Alabama           Clean      M\n",
       "3   25         2807.0  Alabama           Clean      M\n",
       "4   30         2356.0  Alabama           Clean      M"
      ]
     },
     "execution_count": 2,
     "metadata": {},
     "output_type": "execute_result"
    }
   ],
   "source": [
    "# Read csv file using pandas\n",
    "car = pd.read_csv('C:\\\\Users\\\\Owner\\\\CarInsuranceCost.csv')\n",
    "\n",
    "# Displaying the first few rows of the DataFrame to inspect the data\n",
    "car.head()"
   ]
  },
  {
   "cell_type": "markdown",
   "id": "926d4840",
   "metadata": {},
   "source": [
    "## Get State Data"
   ]
  },
  {
   "cell_type": "code",
   "execution_count": 3,
   "id": "97a733b2",
   "metadata": {},
   "outputs": [
    {
     "data": {
      "text/html": [
       "<div>\n",
       "<style scoped>\n",
       "    .dataframe tbody tr th:only-of-type {\n",
       "        vertical-align: middle;\n",
       "    }\n",
       "\n",
       "    .dataframe tbody tr th {\n",
       "        vertical-align: top;\n",
       "    }\n",
       "\n",
       "    .dataframe thead th {\n",
       "        text-align: right;\n",
       "    }\n",
       "</style>\n",
       "<table border=\"1\" class=\"dataframe\">\n",
       "  <thead>\n",
       "    <tr style=\"text-align: right;\">\n",
       "      <th></th>\n",
       "      <th>Population</th>\n",
       "      <th>Income</th>\n",
       "      <th>Illiteracy</th>\n",
       "      <th>LifeExp</th>\n",
       "      <th>Murder</th>\n",
       "      <th>HSGrad</th>\n",
       "      <th>Frost</th>\n",
       "      <th>Area</th>\n",
       "      <th>stateabb</th>\n",
       "      <th>statearea</th>\n",
       "      <th>x</th>\n",
       "      <th>y</th>\n",
       "      <th>statedivision</th>\n",
       "      <th>statename</th>\n",
       "      <th>stateregion</th>\n",
       "    </tr>\n",
       "  </thead>\n",
       "  <tbody>\n",
       "    <tr>\n",
       "      <th>0</th>\n",
       "      <td>3615</td>\n",
       "      <td>3624</td>\n",
       "      <td>2.1</td>\n",
       "      <td>69.05</td>\n",
       "      <td>15.1</td>\n",
       "      <td>41.3</td>\n",
       "      <td>20</td>\n",
       "      <td>50708</td>\n",
       "      <td>AL</td>\n",
       "      <td>51609</td>\n",
       "      <td>-86.7509</td>\n",
       "      <td>32.5901</td>\n",
       "      <td>East South Central</td>\n",
       "      <td>Alabama</td>\n",
       "      <td>South</td>\n",
       "    </tr>\n",
       "    <tr>\n",
       "      <th>1</th>\n",
       "      <td>365</td>\n",
       "      <td>6315</td>\n",
       "      <td>1.5</td>\n",
       "      <td>69.31</td>\n",
       "      <td>11.3</td>\n",
       "      <td>66.7</td>\n",
       "      <td>152</td>\n",
       "      <td>566432</td>\n",
       "      <td>AK</td>\n",
       "      <td>589757</td>\n",
       "      <td>-127.2500</td>\n",
       "      <td>49.2500</td>\n",
       "      <td>Pacific</td>\n",
       "      <td>Alaska</td>\n",
       "      <td>West</td>\n",
       "    </tr>\n",
       "    <tr>\n",
       "      <th>2</th>\n",
       "      <td>2212</td>\n",
       "      <td>4530</td>\n",
       "      <td>1.8</td>\n",
       "      <td>70.55</td>\n",
       "      <td>7.8</td>\n",
       "      <td>58.1</td>\n",
       "      <td>15</td>\n",
       "      <td>113417</td>\n",
       "      <td>AZ</td>\n",
       "      <td>113909</td>\n",
       "      <td>-111.6250</td>\n",
       "      <td>34.2192</td>\n",
       "      <td>Mountain</td>\n",
       "      <td>Arizona</td>\n",
       "      <td>West</td>\n",
       "    </tr>\n",
       "    <tr>\n",
       "      <th>3</th>\n",
       "      <td>2110</td>\n",
       "      <td>3378</td>\n",
       "      <td>1.9</td>\n",
       "      <td>70.66</td>\n",
       "      <td>10.1</td>\n",
       "      <td>39.9</td>\n",
       "      <td>65</td>\n",
       "      <td>51945</td>\n",
       "      <td>AR</td>\n",
       "      <td>53104</td>\n",
       "      <td>-92.2992</td>\n",
       "      <td>34.7336</td>\n",
       "      <td>West South Central</td>\n",
       "      <td>Arkansas</td>\n",
       "      <td>South</td>\n",
       "    </tr>\n",
       "    <tr>\n",
       "      <th>4</th>\n",
       "      <td>21198</td>\n",
       "      <td>5114</td>\n",
       "      <td>1.1</td>\n",
       "      <td>71.71</td>\n",
       "      <td>10.3</td>\n",
       "      <td>62.6</td>\n",
       "      <td>20</td>\n",
       "      <td>156361</td>\n",
       "      <td>CA</td>\n",
       "      <td>158693</td>\n",
       "      <td>-119.7730</td>\n",
       "      <td>36.5341</td>\n",
       "      <td>Pacific</td>\n",
       "      <td>California</td>\n",
       "      <td>West</td>\n",
       "    </tr>\n",
       "  </tbody>\n",
       "</table>\n",
       "</div>"
      ],
      "text/plain": [
       "   Population  Income  Illiteracy  LifeExp  Murder  HSGrad  Frost    Area  \\\n",
       "0        3615    3624         2.1    69.05    15.1    41.3     20   50708   \n",
       "1         365    6315         1.5    69.31    11.3    66.7    152  566432   \n",
       "2        2212    4530         1.8    70.55     7.8    58.1     15  113417   \n",
       "3        2110    3378         1.9    70.66    10.1    39.9     65   51945   \n",
       "4       21198    5114         1.1    71.71    10.3    62.6     20  156361   \n",
       "\n",
       "  stateabb  statearea         x        y       statedivision   statename  \\\n",
       "0       AL      51609  -86.7509  32.5901  East South Central     Alabama   \n",
       "1       AK     589757 -127.2500  49.2500             Pacific      Alaska   \n",
       "2       AZ     113909 -111.6250  34.2192            Mountain     Arizona   \n",
       "3       AR      53104  -92.2992  34.7336  West South Central    Arkansas   \n",
       "4       CA     158693 -119.7730  36.5341             Pacific  California   \n",
       "\n",
       "  stateregion  \n",
       "0       South  \n",
       "1        West  \n",
       "2        West  \n",
       "3       South  \n",
       "4        West  "
      ]
     },
     "execution_count": 3,
     "metadata": {},
     "output_type": "execute_result"
    }
   ],
   "source": [
    "# Read csv file using pandas\n",
    "statedata = pd.read_csv('C:\\\\Users\\\\Owner\\\\statedata.csv')\n",
    "\n",
    "# Displaying the first few rows of the DataFrame to inspect the data\n",
    "statedata.head()"
   ]
  },
  {
   "cell_type": "code",
   "execution_count": 4,
   "id": "cfb77e0c",
   "metadata": {},
   "outputs": [],
   "source": [
    "# Renaming the column 'statename' to 'State' in the statedata DataFrame\n",
    "statedata.rename({'statename':'State'},axis=1,inplace=True)"
   ]
  },
  {
   "cell_type": "code",
   "execution_count": 5,
   "id": "ec831bac",
   "metadata": {},
   "outputs": [
    {
     "data": {
      "text/html": [
       "<div>\n",
       "<style scoped>\n",
       "    .dataframe tbody tr th:only-of-type {\n",
       "        vertical-align: middle;\n",
       "    }\n",
       "\n",
       "    .dataframe tbody tr th {\n",
       "        vertical-align: top;\n",
       "    }\n",
       "\n",
       "    .dataframe thead th {\n",
       "        text-align: right;\n",
       "    }\n",
       "</style>\n",
       "<table border=\"1\" class=\"dataframe\">\n",
       "  <thead>\n",
       "    <tr style=\"text-align: right;\">\n",
       "      <th></th>\n",
       "      <th>Population</th>\n",
       "      <th>Income</th>\n",
       "      <th>Illiteracy</th>\n",
       "      <th>LifeExp</th>\n",
       "      <th>Murder</th>\n",
       "      <th>HSGrad</th>\n",
       "      <th>Frost</th>\n",
       "      <th>Area</th>\n",
       "      <th>stateabb</th>\n",
       "      <th>statearea</th>\n",
       "      <th>x</th>\n",
       "      <th>y</th>\n",
       "      <th>statedivision</th>\n",
       "      <th>State</th>\n",
       "      <th>stateregion</th>\n",
       "    </tr>\n",
       "  </thead>\n",
       "  <tbody>\n",
       "    <tr>\n",
       "      <th>0</th>\n",
       "      <td>3615</td>\n",
       "      <td>3624</td>\n",
       "      <td>2.1</td>\n",
       "      <td>69.05</td>\n",
       "      <td>15.1</td>\n",
       "      <td>41.3</td>\n",
       "      <td>20</td>\n",
       "      <td>50708</td>\n",
       "      <td>AL</td>\n",
       "      <td>51609</td>\n",
       "      <td>-86.7509</td>\n",
       "      <td>32.5901</td>\n",
       "      <td>East South Central</td>\n",
       "      <td>Alabama</td>\n",
       "      <td>South</td>\n",
       "    </tr>\n",
       "    <tr>\n",
       "      <th>1</th>\n",
       "      <td>365</td>\n",
       "      <td>6315</td>\n",
       "      <td>1.5</td>\n",
       "      <td>69.31</td>\n",
       "      <td>11.3</td>\n",
       "      <td>66.7</td>\n",
       "      <td>152</td>\n",
       "      <td>566432</td>\n",
       "      <td>AK</td>\n",
       "      <td>589757</td>\n",
       "      <td>-127.2500</td>\n",
       "      <td>49.2500</td>\n",
       "      <td>Pacific</td>\n",
       "      <td>Alaska</td>\n",
       "      <td>West</td>\n",
       "    </tr>\n",
       "    <tr>\n",
       "      <th>2</th>\n",
       "      <td>2212</td>\n",
       "      <td>4530</td>\n",
       "      <td>1.8</td>\n",
       "      <td>70.55</td>\n",
       "      <td>7.8</td>\n",
       "      <td>58.1</td>\n",
       "      <td>15</td>\n",
       "      <td>113417</td>\n",
       "      <td>AZ</td>\n",
       "      <td>113909</td>\n",
       "      <td>-111.6250</td>\n",
       "      <td>34.2192</td>\n",
       "      <td>Mountain</td>\n",
       "      <td>Arizona</td>\n",
       "      <td>West</td>\n",
       "    </tr>\n",
       "    <tr>\n",
       "      <th>3</th>\n",
       "      <td>2110</td>\n",
       "      <td>3378</td>\n",
       "      <td>1.9</td>\n",
       "      <td>70.66</td>\n",
       "      <td>10.1</td>\n",
       "      <td>39.9</td>\n",
       "      <td>65</td>\n",
       "      <td>51945</td>\n",
       "      <td>AR</td>\n",
       "      <td>53104</td>\n",
       "      <td>-92.2992</td>\n",
       "      <td>34.7336</td>\n",
       "      <td>West South Central</td>\n",
       "      <td>Arkansas</td>\n",
       "      <td>South</td>\n",
       "    </tr>\n",
       "    <tr>\n",
       "      <th>4</th>\n",
       "      <td>21198</td>\n",
       "      <td>5114</td>\n",
       "      <td>1.1</td>\n",
       "      <td>71.71</td>\n",
       "      <td>10.3</td>\n",
       "      <td>62.6</td>\n",
       "      <td>20</td>\n",
       "      <td>156361</td>\n",
       "      <td>CA</td>\n",
       "      <td>158693</td>\n",
       "      <td>-119.7730</td>\n",
       "      <td>36.5341</td>\n",
       "      <td>Pacific</td>\n",
       "      <td>California</td>\n",
       "      <td>West</td>\n",
       "    </tr>\n",
       "  </tbody>\n",
       "</table>\n",
       "</div>"
      ],
      "text/plain": [
       "   Population  Income  Illiteracy  LifeExp  Murder  HSGrad  Frost    Area  \\\n",
       "0        3615    3624         2.1    69.05    15.1    41.3     20   50708   \n",
       "1         365    6315         1.5    69.31    11.3    66.7    152  566432   \n",
       "2        2212    4530         1.8    70.55     7.8    58.1     15  113417   \n",
       "3        2110    3378         1.9    70.66    10.1    39.9     65   51945   \n",
       "4       21198    5114         1.1    71.71    10.3    62.6     20  156361   \n",
       "\n",
       "  stateabb  statearea         x        y       statedivision       State  \\\n",
       "0       AL      51609  -86.7509  32.5901  East South Central     Alabama   \n",
       "1       AK     589757 -127.2500  49.2500             Pacific      Alaska   \n",
       "2       AZ     113909 -111.6250  34.2192            Mountain     Arizona   \n",
       "3       AR      53104  -92.2992  34.7336  West South Central    Arkansas   \n",
       "4       CA     158693 -119.7730  36.5341             Pacific  California   \n",
       "\n",
       "  stateregion  \n",
       "0       South  \n",
       "1        West  \n",
       "2        West  \n",
       "3       South  \n",
       "4        West  "
      ]
     },
     "execution_count": 5,
     "metadata": {},
     "output_type": "execute_result"
    }
   ],
   "source": [
    "# Displaying the first few rows of the statedata DataFrame after renaming the column\n",
    "statedata.head()"
   ]
  },
  {
   "cell_type": "markdown",
   "id": "60255efa",
   "metadata": {},
   "source": [
    "## Join Car and Statedata to get the final dataset"
   ]
  },
  {
   "cell_type": "code",
   "execution_count": 6,
   "id": "43410c2d",
   "metadata": {},
   "outputs": [],
   "source": [
    "# Perform inner join\n",
    "df = pd.merge(car, statedata, on='State', how='inner')"
   ]
  },
  {
   "cell_type": "code",
   "execution_count": 7,
   "id": "db07b989",
   "metadata": {},
   "outputs": [
    {
     "data": {
      "text/html": [
       "<div>\n",
       "<style scoped>\n",
       "    .dataframe tbody tr th:only-of-type {\n",
       "        vertical-align: middle;\n",
       "    }\n",
       "\n",
       "    .dataframe tbody tr th {\n",
       "        vertical-align: top;\n",
       "    }\n",
       "\n",
       "    .dataframe thead th {\n",
       "        text-align: right;\n",
       "    }\n",
       "</style>\n",
       "<table border=\"1\" class=\"dataframe\">\n",
       "  <thead>\n",
       "    <tr style=\"text-align: right;\">\n",
       "      <th></th>\n",
       "      <th>Age</th>\n",
       "      <th>AnnualPremium</th>\n",
       "      <th>State</th>\n",
       "      <th>DrivingIncident</th>\n",
       "      <th>Gender</th>\n",
       "      <th>Population</th>\n",
       "      <th>Income</th>\n",
       "      <th>Illiteracy</th>\n",
       "      <th>LifeExp</th>\n",
       "      <th>Murder</th>\n",
       "      <th>HSGrad</th>\n",
       "      <th>Frost</th>\n",
       "      <th>Area</th>\n",
       "      <th>stateabb</th>\n",
       "      <th>statearea</th>\n",
       "      <th>x</th>\n",
       "      <th>y</th>\n",
       "      <th>statedivision</th>\n",
       "      <th>stateregion</th>\n",
       "    </tr>\n",
       "  </thead>\n",
       "  <tbody>\n",
       "    <tr>\n",
       "      <th>0</th>\n",
       "      <td>16</td>\n",
       "      <td>5203.0</td>\n",
       "      <td>Alabama</td>\n",
       "      <td>Clean</td>\n",
       "      <td>M</td>\n",
       "      <td>3615</td>\n",
       "      <td>3624</td>\n",
       "      <td>2.1</td>\n",
       "      <td>69.05</td>\n",
       "      <td>15.1</td>\n",
       "      <td>41.3</td>\n",
       "      <td>20</td>\n",
       "      <td>50708</td>\n",
       "      <td>AL</td>\n",
       "      <td>51609</td>\n",
       "      <td>-86.7509</td>\n",
       "      <td>32.5901</td>\n",
       "      <td>East South Central</td>\n",
       "      <td>South</td>\n",
       "    </tr>\n",
       "    <tr>\n",
       "      <th>1</th>\n",
       "      <td>18</td>\n",
       "      <td>8127.0</td>\n",
       "      <td>Alabama</td>\n",
       "      <td>Clean</td>\n",
       "      <td>M</td>\n",
       "      <td>3615</td>\n",
       "      <td>3624</td>\n",
       "      <td>2.1</td>\n",
       "      <td>69.05</td>\n",
       "      <td>15.1</td>\n",
       "      <td>41.3</td>\n",
       "      <td>20</td>\n",
       "      <td>50708</td>\n",
       "      <td>AL</td>\n",
       "      <td>51609</td>\n",
       "      <td>-86.7509</td>\n",
       "      <td>32.5901</td>\n",
       "      <td>East South Central</td>\n",
       "      <td>South</td>\n",
       "    </tr>\n",
       "    <tr>\n",
       "      <th>2</th>\n",
       "      <td>20</td>\n",
       "      <td>5691.0</td>\n",
       "      <td>Alabama</td>\n",
       "      <td>Clean</td>\n",
       "      <td>M</td>\n",
       "      <td>3615</td>\n",
       "      <td>3624</td>\n",
       "      <td>2.1</td>\n",
       "      <td>69.05</td>\n",
       "      <td>15.1</td>\n",
       "      <td>41.3</td>\n",
       "      <td>20</td>\n",
       "      <td>50708</td>\n",
       "      <td>AL</td>\n",
       "      <td>51609</td>\n",
       "      <td>-86.7509</td>\n",
       "      <td>32.5901</td>\n",
       "      <td>East South Central</td>\n",
       "      <td>South</td>\n",
       "    </tr>\n",
       "    <tr>\n",
       "      <th>3</th>\n",
       "      <td>25</td>\n",
       "      <td>2807.0</td>\n",
       "      <td>Alabama</td>\n",
       "      <td>Clean</td>\n",
       "      <td>M</td>\n",
       "      <td>3615</td>\n",
       "      <td>3624</td>\n",
       "      <td>2.1</td>\n",
       "      <td>69.05</td>\n",
       "      <td>15.1</td>\n",
       "      <td>41.3</td>\n",
       "      <td>20</td>\n",
       "      <td>50708</td>\n",
       "      <td>AL</td>\n",
       "      <td>51609</td>\n",
       "      <td>-86.7509</td>\n",
       "      <td>32.5901</td>\n",
       "      <td>East South Central</td>\n",
       "      <td>South</td>\n",
       "    </tr>\n",
       "    <tr>\n",
       "      <th>4</th>\n",
       "      <td>30</td>\n",
       "      <td>2356.0</td>\n",
       "      <td>Alabama</td>\n",
       "      <td>Clean</td>\n",
       "      <td>M</td>\n",
       "      <td>3615</td>\n",
       "      <td>3624</td>\n",
       "      <td>2.1</td>\n",
       "      <td>69.05</td>\n",
       "      <td>15.1</td>\n",
       "      <td>41.3</td>\n",
       "      <td>20</td>\n",
       "      <td>50708</td>\n",
       "      <td>AL</td>\n",
       "      <td>51609</td>\n",
       "      <td>-86.7509</td>\n",
       "      <td>32.5901</td>\n",
       "      <td>East South Central</td>\n",
       "      <td>South</td>\n",
       "    </tr>\n",
       "  </tbody>\n",
       "</table>\n",
       "</div>"
      ],
      "text/plain": [
       "   Age  AnnualPremium    State DrivingIncident Gender  Population  Income  \\\n",
       "0   16         5203.0  Alabama           Clean      M        3615    3624   \n",
       "1   18         8127.0  Alabama           Clean      M        3615    3624   \n",
       "2   20         5691.0  Alabama           Clean      M        3615    3624   \n",
       "3   25         2807.0  Alabama           Clean      M        3615    3624   \n",
       "4   30         2356.0  Alabama           Clean      M        3615    3624   \n",
       "\n",
       "   Illiteracy  LifeExp  Murder  HSGrad  Frost   Area stateabb  statearea  \\\n",
       "0         2.1    69.05    15.1    41.3     20  50708       AL      51609   \n",
       "1         2.1    69.05    15.1    41.3     20  50708       AL      51609   \n",
       "2         2.1    69.05    15.1    41.3     20  50708       AL      51609   \n",
       "3         2.1    69.05    15.1    41.3     20  50708       AL      51609   \n",
       "4         2.1    69.05    15.1    41.3     20  50708       AL      51609   \n",
       "\n",
       "         x        y       statedivision stateregion  \n",
       "0 -86.7509  32.5901  East South Central       South  \n",
       "1 -86.7509  32.5901  East South Central       South  \n",
       "2 -86.7509  32.5901  East South Central       South  \n",
       "3 -86.7509  32.5901  East South Central       South  \n",
       "4 -86.7509  32.5901  East South Central       South  "
      ]
     },
     "execution_count": 7,
     "metadata": {},
     "output_type": "execute_result"
    }
   ],
   "source": [
    "# Display a few records\n",
    "df.head()"
   ]
  },
  {
   "cell_type": "markdown",
   "id": "932a79a3",
   "metadata": {},
   "source": [
    "## Data Preprocessing"
   ]
  },
  {
   "cell_type": "markdown",
   "id": "5af98f5e",
   "metadata": {},
   "source": [
    "## Drop features that are not useful"
   ]
  },
  {
   "cell_type": "code",
   "execution_count": 8,
   "id": "13936943",
   "metadata": {},
   "outputs": [
    {
     "data": {
      "text/plain": [
       "Index(['Age', 'AnnualPremium', 'State', 'DrivingIncident', 'Gender',\n",
       "       'Population', 'Income', 'Illiteracy', 'LifeExp', 'Murder', 'HSGrad',\n",
       "       'Frost', 'Area', 'stateabb', 'statearea', 'x', 'y', 'statedivision',\n",
       "       'stateregion'],\n",
       "      dtype='object')"
      ]
     },
     "execution_count": 8,
     "metadata": {},
     "output_type": "execute_result"
    }
   ],
   "source": [
    "# Display the column labels of the DataFrame (df)\n",
    "df.columns"
   ]
  },
  {
   "cell_type": "code",
   "execution_count": 9,
   "id": "560e5989",
   "metadata": {},
   "outputs": [],
   "source": [
    "# Dropping specified columns from the DataFrame 'df'\n",
    "df.drop(['Population', 'Illiteracy', 'Murder','HSGrad', 'Frost','LifeExp','State',\n",
    "       'Area', 'stateabb', 'statearea', 'x', 'y', 'statedivision'],axis=1, inplace=True)"
   ]
  },
  {
   "cell_type": "code",
   "execution_count": 10,
   "id": "69e62586",
   "metadata": {},
   "outputs": [
    {
     "data": {
      "text/html": [
       "<div>\n",
       "<style scoped>\n",
       "    .dataframe tbody tr th:only-of-type {\n",
       "        vertical-align: middle;\n",
       "    }\n",
       "\n",
       "    .dataframe tbody tr th {\n",
       "        vertical-align: top;\n",
       "    }\n",
       "\n",
       "    .dataframe thead th {\n",
       "        text-align: right;\n",
       "    }\n",
       "</style>\n",
       "<table border=\"1\" class=\"dataframe\">\n",
       "  <thead>\n",
       "    <tr style=\"text-align: right;\">\n",
       "      <th></th>\n",
       "      <th>Age</th>\n",
       "      <th>AnnualPremium</th>\n",
       "      <th>DrivingIncident</th>\n",
       "      <th>Gender</th>\n",
       "      <th>Income</th>\n",
       "      <th>stateregion</th>\n",
       "    </tr>\n",
       "  </thead>\n",
       "  <tbody>\n",
       "    <tr>\n",
       "      <th>0</th>\n",
       "      <td>16</td>\n",
       "      <td>5203.0</td>\n",
       "      <td>Clean</td>\n",
       "      <td>M</td>\n",
       "      <td>3624</td>\n",
       "      <td>South</td>\n",
       "    </tr>\n",
       "    <tr>\n",
       "      <th>1</th>\n",
       "      <td>18</td>\n",
       "      <td>8127.0</td>\n",
       "      <td>Clean</td>\n",
       "      <td>M</td>\n",
       "      <td>3624</td>\n",
       "      <td>South</td>\n",
       "    </tr>\n",
       "    <tr>\n",
       "      <th>2</th>\n",
       "      <td>20</td>\n",
       "      <td>5691.0</td>\n",
       "      <td>Clean</td>\n",
       "      <td>M</td>\n",
       "      <td>3624</td>\n",
       "      <td>South</td>\n",
       "    </tr>\n",
       "    <tr>\n",
       "      <th>3</th>\n",
       "      <td>25</td>\n",
       "      <td>2807.0</td>\n",
       "      <td>Clean</td>\n",
       "      <td>M</td>\n",
       "      <td>3624</td>\n",
       "      <td>South</td>\n",
       "    </tr>\n",
       "    <tr>\n",
       "      <th>4</th>\n",
       "      <td>30</td>\n",
       "      <td>2356.0</td>\n",
       "      <td>Clean</td>\n",
       "      <td>M</td>\n",
       "      <td>3624</td>\n",
       "      <td>South</td>\n",
       "    </tr>\n",
       "  </tbody>\n",
       "</table>\n",
       "</div>"
      ],
      "text/plain": [
       "   Age  AnnualPremium DrivingIncident Gender  Income stateregion\n",
       "0   16         5203.0           Clean      M    3624       South\n",
       "1   18         8127.0           Clean      M    3624       South\n",
       "2   20         5691.0           Clean      M    3624       South\n",
       "3   25         2807.0           Clean      M    3624       South\n",
       "4   30         2356.0           Clean      M    3624       South"
      ]
     },
     "execution_count": 10,
     "metadata": {},
     "output_type": "execute_result"
    }
   ],
   "source": [
    "# Display a few records\n",
    "df.head()"
   ]
  },
  {
   "cell_type": "markdown",
   "id": "c375a593",
   "metadata": {},
   "source": [
    "## Find shape "
   ]
  },
  {
   "cell_type": "code",
   "execution_count": 11,
   "id": "9030f47d",
   "metadata": {},
   "outputs": [
    {
     "data": {
      "text/plain": [
       "(3168, 6)"
      ]
     },
     "execution_count": 11,
     "metadata": {},
     "output_type": "execute_result"
    }
   ],
   "source": [
    "# Retrieve the shape of the DataFrame\n",
    "df.shape"
   ]
  },
  {
   "cell_type": "markdown",
   "id": "a5a507f6",
   "metadata": {},
   "source": [
    "## Get dataset information"
   ]
  },
  {
   "cell_type": "code",
   "execution_count": 12,
   "id": "6e423528",
   "metadata": {},
   "outputs": [
    {
     "name": "stdout",
     "output_type": "stream",
     "text": [
      "<class 'pandas.core.frame.DataFrame'>\n",
      "Int64Index: 3168 entries, 0 to 3167\n",
      "Data columns (total 6 columns):\n",
      " #   Column           Non-Null Count  Dtype  \n",
      "---  ------           --------------  -----  \n",
      " 0   Age              3168 non-null   int64  \n",
      " 1   AnnualPremium    3168 non-null   float64\n",
      " 2   DrivingIncident  3168 non-null   object \n",
      " 3   Gender           3168 non-null   object \n",
      " 4   Income           3168 non-null   int64  \n",
      " 5   stateregion      3168 non-null   object \n",
      "dtypes: float64(1), int64(2), object(3)\n",
      "memory usage: 173.2+ KB\n"
     ]
    }
   ],
   "source": [
    "# Display concise summary of the DataFrame\n",
    "df.info()"
   ]
  },
  {
   "cell_type": "markdown",
   "id": "adc81bd3",
   "metadata": {},
   "source": [
    "## Check missing values"
   ]
  },
  {
   "cell_type": "code",
   "execution_count": 13,
   "id": "b8f281d5",
   "metadata": {},
   "outputs": [
    {
     "data": {
      "text/plain": [
       "Age                0\n",
       "AnnualPremium      0\n",
       "DrivingIncident    0\n",
       "Gender             0\n",
       "Income             0\n",
       "stateregion        0\n",
       "dtype: int64"
      ]
     },
     "execution_count": 13,
     "metadata": {},
     "output_type": "execute_result"
    }
   ],
   "source": [
    "# Calculate the sum of missing values in each column of the DataFrame\n",
    "df.isnull().sum()"
   ]
  },
  {
   "cell_type": "code",
   "execution_count": 16,
   "id": "aab2552e",
   "metadata": {},
   "outputs": [],
   "source": [
    "# There is no missing values in the dataset."
   ]
  },
  {
   "cell_type": "markdown",
   "id": "b83f034a",
   "metadata": {},
   "source": [
    "## Check duplicates"
   ]
  },
  {
   "cell_type": "code",
   "execution_count": 14,
   "id": "392d09af",
   "metadata": {},
   "outputs": [
    {
     "data": {
      "text/plain": [
       "0"
      ]
     },
     "execution_count": 14,
     "metadata": {},
     "output_type": "execute_result"
    }
   ],
   "source": [
    "# Check duplicates\n",
    "df.duplicated().sum()"
   ]
  },
  {
   "cell_type": "code",
   "execution_count": 18,
   "id": "6a4a703b",
   "metadata": {},
   "outputs": [],
   "source": [
    "# There is no duplicates"
   ]
  },
  {
   "cell_type": "markdown",
   "id": "0b6dcbbf",
   "metadata": {},
   "source": [
    "## Stats Summary"
   ]
  },
  {
   "cell_type": "code",
   "execution_count": 15,
   "id": "9ebe9fdd",
   "metadata": {},
   "outputs": [
    {
     "data": {
      "text/html": [
       "<div>\n",
       "<style scoped>\n",
       "    .dataframe tbody tr th:only-of-type {\n",
       "        vertical-align: middle;\n",
       "    }\n",
       "\n",
       "    .dataframe tbody tr th {\n",
       "        vertical-align: top;\n",
       "    }\n",
       "\n",
       "    .dataframe thead th {\n",
       "        text-align: right;\n",
       "    }\n",
       "</style>\n",
       "<table border=\"1\" class=\"dataframe\">\n",
       "  <thead>\n",
       "    <tr style=\"text-align: right;\">\n",
       "      <th></th>\n",
       "      <th>Age</th>\n",
       "      <th>AnnualPremium</th>\n",
       "      <th>Income</th>\n",
       "    </tr>\n",
       "  </thead>\n",
       "  <tbody>\n",
       "    <tr>\n",
       "      <th>count</th>\n",
       "      <td>3168.000000</td>\n",
       "      <td>3168.000000</td>\n",
       "      <td>3168.000000</td>\n",
       "    </tr>\n",
       "    <tr>\n",
       "      <th>mean</th>\n",
       "      <td>36.555556</td>\n",
       "      <td>3766.212053</td>\n",
       "      <td>4457.886364</td>\n",
       "    </tr>\n",
       "    <tr>\n",
       "      <th>std</th>\n",
       "      <td>18.496829</td>\n",
       "      <td>2506.579778</td>\n",
       "      <td>602.796912</td>\n",
       "    </tr>\n",
       "    <tr>\n",
       "      <th>min</th>\n",
       "      <td>16.000000</td>\n",
       "      <td>118.000000</td>\n",
       "      <td>3378.000000</td>\n",
       "    </tr>\n",
       "    <tr>\n",
       "      <th>25%</th>\n",
       "      <td>20.000000</td>\n",
       "      <td>2044.432500</td>\n",
       "      <td>3993.250000</td>\n",
       "    </tr>\n",
       "    <tr>\n",
       "      <th>50%</th>\n",
       "      <td>30.000000</td>\n",
       "      <td>2937.350000</td>\n",
       "      <td>4519.000000</td>\n",
       "    </tr>\n",
       "    <tr>\n",
       "      <th>75%</th>\n",
       "      <td>50.000000</td>\n",
       "      <td>4711.935000</td>\n",
       "      <td>4827.250000</td>\n",
       "    </tr>\n",
       "    <tr>\n",
       "      <th>max</th>\n",
       "      <td>70.000000</td>\n",
       "      <td>20558.100000</td>\n",
       "      <td>6315.000000</td>\n",
       "    </tr>\n",
       "  </tbody>\n",
       "</table>\n",
       "</div>"
      ],
      "text/plain": [
       "               Age  AnnualPremium       Income\n",
       "count  3168.000000    3168.000000  3168.000000\n",
       "mean     36.555556    3766.212053  4457.886364\n",
       "std      18.496829    2506.579778   602.796912\n",
       "min      16.000000     118.000000  3378.000000\n",
       "25%      20.000000    2044.432500  3993.250000\n",
       "50%      30.000000    2937.350000  4519.000000\n",
       "75%      50.000000    4711.935000  4827.250000\n",
       "max      70.000000   20558.100000  6315.000000"
      ]
     },
     "execution_count": 15,
     "metadata": {},
     "output_type": "execute_result"
    }
   ],
   "source": [
    "# Generate descriptive statistics for numerical columns in the DataFrame\n",
    "df.describe()"
   ]
  },
  {
   "cell_type": "code",
   "execution_count": 20,
   "id": "187a6346",
   "metadata": {},
   "outputs": [],
   "source": [
    "# Annual Premium: right skewed due to mean > median\n",
    "# Income: left skewed due to mean < median"
   ]
  },
  {
   "cell_type": "markdown",
   "id": "10ed5807",
   "metadata": {},
   "source": [
    "## Data Analysis"
   ]
  },
  {
   "cell_type": "code",
   "execution_count": 16,
   "id": "0a50fcd0",
   "metadata": {},
   "outputs": [
    {
     "data": {
      "text/plain": [
       "Index(['Age', 'AnnualPremium', 'DrivingIncident', 'Gender', 'Income',\n",
       "       'stateregion'],\n",
       "      dtype='object')"
      ]
     },
     "execution_count": 16,
     "metadata": {},
     "output_type": "execute_result"
    }
   ],
   "source": [
    "# Display the column labels of the DataFrame (df)\n",
    "df.columns"
   ]
  },
  {
   "cell_type": "code",
   "execution_count": 47,
   "id": "566a2212",
   "metadata": {},
   "outputs": [
    {
     "data": {
      "text/html": [
       "<div>\n",
       "<style scoped>\n",
       "    .dataframe tbody tr th:only-of-type {\n",
       "        vertical-align: middle;\n",
       "    }\n",
       "\n",
       "    .dataframe tbody tr th {\n",
       "        vertical-align: top;\n",
       "    }\n",
       "\n",
       "    .dataframe thead th {\n",
       "        text-align: right;\n",
       "    }\n",
       "</style>\n",
       "<table border=\"1\" class=\"dataframe\">\n",
       "  <thead>\n",
       "    <tr style=\"text-align: right;\">\n",
       "      <th></th>\n",
       "      <th>Age</th>\n",
       "      <th>AnnualPremium</th>\n",
       "      <th>DrivingIncident</th>\n",
       "      <th>Gender</th>\n",
       "      <th>Income</th>\n",
       "      <th>stateregion</th>\n",
       "    </tr>\n",
       "  </thead>\n",
       "  <tbody>\n",
       "    <tr>\n",
       "      <th>0</th>\n",
       "      <td>16</td>\n",
       "      <td>5203.0</td>\n",
       "      <td>1</td>\n",
       "      <td>1</td>\n",
       "      <td>3624</td>\n",
       "      <td>2</td>\n",
       "    </tr>\n",
       "    <tr>\n",
       "      <th>1</th>\n",
       "      <td>18</td>\n",
       "      <td>8127.0</td>\n",
       "      <td>1</td>\n",
       "      <td>1</td>\n",
       "      <td>3624</td>\n",
       "      <td>2</td>\n",
       "    </tr>\n",
       "    <tr>\n",
       "      <th>2</th>\n",
       "      <td>20</td>\n",
       "      <td>5691.0</td>\n",
       "      <td>1</td>\n",
       "      <td>1</td>\n",
       "      <td>3624</td>\n",
       "      <td>2</td>\n",
       "    </tr>\n",
       "    <tr>\n",
       "      <th>3</th>\n",
       "      <td>25</td>\n",
       "      <td>2807.0</td>\n",
       "      <td>1</td>\n",
       "      <td>1</td>\n",
       "      <td>3624</td>\n",
       "      <td>2</td>\n",
       "    </tr>\n",
       "    <tr>\n",
       "      <th>4</th>\n",
       "      <td>30</td>\n",
       "      <td>2356.0</td>\n",
       "      <td>1</td>\n",
       "      <td>1</td>\n",
       "      <td>3624</td>\n",
       "      <td>2</td>\n",
       "    </tr>\n",
       "  </tbody>\n",
       "</table>\n",
       "</div>"
      ],
      "text/plain": [
       "   Age  AnnualPremium  DrivingIncident  Gender  Income  stateregion\n",
       "0   16         5203.0                1       1    3624            2\n",
       "1   18         8127.0                1       1    3624            2\n",
       "2   20         5691.0                1       1    3624            2\n",
       "3   25         2807.0                1       1    3624            2\n",
       "4   30         2356.0                1       1    3624            2"
      ]
     },
     "execution_count": 47,
     "metadata": {},
     "output_type": "execute_result"
    }
   ],
   "source": [
    "# Display a few records\n",
    "df.head()"
   ]
  },
  {
   "cell_type": "code",
   "execution_count": 50,
   "id": "8fa8bfa7",
   "metadata": {},
   "outputs": [
    {
     "data": {
      "image/png": "[encoded data removed]",
      "text/plain": [
       "<Figure size 640x480 with 1 Axes>"
      ]
     },
     "metadata": {},
     "output_type": "display_data"
    }
   ],
   "source": [
    "# Import the pyplot module from the matplotlib library\n",
    "import matplotlib.pyplot as plt\n",
    "\n",
    "# Set blue color\n",
    "colors = ['lightblue']\n",
    "\n",
    "# Creates a histogram using the plt.hist() function\n",
    "plt.hist(x=df[\"AnnualPremium\"], bins=20, color=colors, edgecolor='red' )\n",
    "\n",
    "# These lines set the title of the plot to \"AnnualPremium Distribution\" using plt.title(), the label for \n",
    "# the x-axis to \"AnnualPremium\" using plt.xlabel(), and the label for the y-axis to \"Frequency\" using plt.ylabel().\n",
    "plt.title(\"Annual Premium Distribution\")\n",
    "plt.xlabel(\"Annual Premium\")\n",
    "plt.ylabel(\"Frequency\")\n",
    "\n",
    "# Display the plot\n",
    "plt.show()"
   ]
  },
  {
   "cell_type": "code",
   "execution_count": 19,
   "id": "619ab277",
   "metadata": {},
   "outputs": [
    {
     "data": {
      "text/plain": [
       "South            1008\n",
       "West              864\n",
       "North Central     720\n",
       "Northeast         576\n",
       "Name: stateregion, dtype: int64"
      ]
     },
     "execution_count": 19,
     "metadata": {},
     "output_type": "execute_result"
    }
   ],
   "source": [
    "# Counting the occurrences of each unique value in the 'stateregion' column\n",
    "df['stateregion'].value_counts()"
   ]
  },
  {
   "cell_type": "code",
   "execution_count": 20,
   "id": "503e2391",
   "metadata": {},
   "outputs": [
    {
     "data": {
      "image/png": "[encoded data removed]",
      "text/plain": [
       "<Figure size 640x480 with 1 Axes>"
      ]
     },
     "metadata": {},
     "output_type": "display_data"
    }
   ],
   "source": [
    "# stateregion\n",
    "\n",
    "# Creating a count plot to visualize the distribution of 'stateregion' values\n",
    "sns.countplot(x='stateregion', data=df)\n",
    "\n",
    "# Adding title and labels to the plot\n",
    "plt.title('Count of stateregion')\n",
    "plt.xlabel('stateregion')\n",
    "plt.ylabel('Count')\n",
    "\n",
    "# Displaying the plot\n",
    "plt.show()"
   ]
  },
  {
   "cell_type": "code",
   "execution_count": 21,
   "id": "787b543d",
   "metadata": {},
   "outputs": [
    {
     "data": {
      "image/png": "[encoded data removed]",
      "text/plain": [
       "<Figure size 640x480 with 1 Axes>"
      ]
     },
     "metadata": {},
     "output_type": "display_data"
    }
   ],
   "source": [
    "# Creates a box plot using seaborn's boxplot function\n",
    "sns.boxplot(y='stateregion', x='AnnualPremium', data=df)\n",
    "\n",
    "# These lines set the title of the plot to \"AnnualPremium Distribution by stateregion\" using plt.title(), \n",
    "# the label for the x-axis to \"AnnualPremium\" using plt.xlabel(), and the label for the y-axis to \n",
    "# \"stateregion\" using plt.ylabel()\n",
    "plt.title('AnnualPremium Distribution by stateregion')\n",
    "plt.xlabel('AnnualPremium')\n",
    "plt.ylabel('stateregion')\n",
    "\n",
    "# This line rotates the x-axis labels by 45 degrees\n",
    "plt.xticks(rotation=45)\n",
    "\n",
    "# Display the plot\n",
    "plt.show()"
   ]
  },
  {
   "cell_type": "code",
   "execution_count": 22,
   "id": "aab08e9e",
   "metadata": {},
   "outputs": [
    {
     "data": {
      "image/png": "[encoded data removed]",
      "text/plain": [
       "<Figure size 1000x800 with 2 Axes>"
      ]
     },
     "metadata": {},
     "output_type": "display_data"
    }
   ],
   "source": [
    "# Heatmap or Correlation Matrix\n",
    "\n",
    "# Setting the figure size for the heatmap\n",
    "plt.figure(figsize=(10, 8))\n",
    "\n",
    "# Creating a heatmap to visualize the correlation matrix of the DataFrame 'df'\n",
    "sns.heatmap(df.corr(), annot=True, cmap='coolwarm')\n",
    "\n",
    "# Setting the title for the heatmap\n",
    "plt.title('Correlation Matrix')\n",
    "\n",
    "# Displaying the heatmap\n",
    "plt.show()"
   ]
  },
  {
   "cell_type": "code",
   "execution_count": 23,
   "id": "173f18fb",
   "metadata": {},
   "outputs": [
    {
     "data": {
      "text/html": [
       "<div>\n",
       "<style scoped>\n",
       "    .dataframe tbody tr th:only-of-type {\n",
       "        vertical-align: middle;\n",
       "    }\n",
       "\n",
       "    .dataframe tbody tr th {\n",
       "        vertical-align: top;\n",
       "    }\n",
       "\n",
       "    .dataframe thead th {\n",
       "        text-align: right;\n",
       "    }\n",
       "</style>\n",
       "<table border=\"1\" class=\"dataframe\">\n",
       "  <thead>\n",
       "    <tr style=\"text-align: right;\">\n",
       "      <th></th>\n",
       "      <th>Age</th>\n",
       "      <th>AnnualPremium</th>\n",
       "      <th>DrivingIncident</th>\n",
       "      <th>Gender</th>\n",
       "      <th>Income</th>\n",
       "      <th>stateregion</th>\n",
       "    </tr>\n",
       "  </thead>\n",
       "  <tbody>\n",
       "    <tr>\n",
       "      <th>0</th>\n",
       "      <td>16</td>\n",
       "      <td>5203.0</td>\n",
       "      <td>Clean</td>\n",
       "      <td>M</td>\n",
       "      <td>3624</td>\n",
       "      <td>South</td>\n",
       "    </tr>\n",
       "    <tr>\n",
       "      <th>1</th>\n",
       "      <td>18</td>\n",
       "      <td>8127.0</td>\n",
       "      <td>Clean</td>\n",
       "      <td>M</td>\n",
       "      <td>3624</td>\n",
       "      <td>South</td>\n",
       "    </tr>\n",
       "    <tr>\n",
       "      <th>2</th>\n",
       "      <td>20</td>\n",
       "      <td>5691.0</td>\n",
       "      <td>Clean</td>\n",
       "      <td>M</td>\n",
       "      <td>3624</td>\n",
       "      <td>South</td>\n",
       "    </tr>\n",
       "    <tr>\n",
       "      <th>3</th>\n",
       "      <td>25</td>\n",
       "      <td>2807.0</td>\n",
       "      <td>Clean</td>\n",
       "      <td>M</td>\n",
       "      <td>3624</td>\n",
       "      <td>South</td>\n",
       "    </tr>\n",
       "    <tr>\n",
       "      <th>4</th>\n",
       "      <td>30</td>\n",
       "      <td>2356.0</td>\n",
       "      <td>Clean</td>\n",
       "      <td>M</td>\n",
       "      <td>3624</td>\n",
       "      <td>South</td>\n",
       "    </tr>\n",
       "  </tbody>\n",
       "</table>\n",
       "</div>"
      ],
      "text/plain": [
       "   Age  AnnualPremium DrivingIncident Gender  Income stateregion\n",
       "0   16         5203.0           Clean      M    3624       South\n",
       "1   18         8127.0           Clean      M    3624       South\n",
       "2   20         5691.0           Clean      M    3624       South\n",
       "3   25         2807.0           Clean      M    3624       South\n",
       "4   30         2356.0           Clean      M    3624       South"
      ]
     },
     "execution_count": 23,
     "metadata": {},
     "output_type": "execute_result"
    }
   ],
   "source": [
    "# Display a few records\n",
    "df.head()"
   ]
  },
  {
   "cell_type": "markdown",
   "id": "080b0362",
   "metadata": {},
   "source": [
    "## Label encoding"
   ]
  },
  {
   "cell_type": "code",
   "execution_count": 24,
   "id": "9686770b",
   "metadata": {},
   "outputs": [
    {
     "data": {
      "text/plain": [
       "Index(['DrivingIncident', 'Gender', 'stateregion'], dtype='object')"
      ]
     },
     "execution_count": 24,
     "metadata": {},
     "output_type": "execute_result"
    }
   ],
   "source": [
    "# Selecting columns with data type 'object' (categorical columns)\n",
    "category_cols = df.select_dtypes(include=['object']).columns\n",
    "\n",
    "# Displaying the resulting categorical columns\n",
    "category_cols"
   ]
  },
  {
   "cell_type": "code",
   "execution_count": 25,
   "id": "10debbca",
   "metadata": {},
   "outputs": [],
   "source": [
    "# Import the LabelEncoder class from the preprocessing module of scikit-learn\n",
    "from sklearn.preprocessing import LabelEncoder\n",
    "\n",
    "# This line creates an instance of the LabelEncoder class, which will be used to perform the encoding.\n",
    "en=LabelEncoder()\n",
    "\n",
    "# This loop iterates over each column name in the list category_cols, which contains the names of categorical\n",
    "# columns in the DataFrame df. \n",
    "for i in category_cols:\n",
    "    # This method fits the encoder to the unique values in the column (fitting) and \n",
    "    # then transforms the values in the column into numeric labels (transforming).\n",
    "    df[i]=en.fit_transform(df[i])"
   ]
  },
  {
   "cell_type": "code",
   "execution_count": 26,
   "id": "092537eb",
   "metadata": {},
   "outputs": [
    {
     "data": {
      "text/html": [
       "<div>\n",
       "<style scoped>\n",
       "    .dataframe tbody tr th:only-of-type {\n",
       "        vertical-align: middle;\n",
       "    }\n",
       "\n",
       "    .dataframe tbody tr th {\n",
       "        vertical-align: top;\n",
       "    }\n",
       "\n",
       "    .dataframe thead th {\n",
       "        text-align: right;\n",
       "    }\n",
       "</style>\n",
       "<table border=\"1\" class=\"dataframe\">\n",
       "  <thead>\n",
       "    <tr style=\"text-align: right;\">\n",
       "      <th></th>\n",
       "      <th>Age</th>\n",
       "      <th>AnnualPremium</th>\n",
       "      <th>DrivingIncident</th>\n",
       "      <th>Gender</th>\n",
       "      <th>Income</th>\n",
       "      <th>stateregion</th>\n",
       "    </tr>\n",
       "  </thead>\n",
       "  <tbody>\n",
       "    <tr>\n",
       "      <th>0</th>\n",
       "      <td>16</td>\n",
       "      <td>5203.0</td>\n",
       "      <td>1</td>\n",
       "      <td>1</td>\n",
       "      <td>3624</td>\n",
       "      <td>2</td>\n",
       "    </tr>\n",
       "    <tr>\n",
       "      <th>1</th>\n",
       "      <td>18</td>\n",
       "      <td>8127.0</td>\n",
       "      <td>1</td>\n",
       "      <td>1</td>\n",
       "      <td>3624</td>\n",
       "      <td>2</td>\n",
       "    </tr>\n",
       "    <tr>\n",
       "      <th>2</th>\n",
       "      <td>20</td>\n",
       "      <td>5691.0</td>\n",
       "      <td>1</td>\n",
       "      <td>1</td>\n",
       "      <td>3624</td>\n",
       "      <td>2</td>\n",
       "    </tr>\n",
       "    <tr>\n",
       "      <th>3</th>\n",
       "      <td>25</td>\n",
       "      <td>2807.0</td>\n",
       "      <td>1</td>\n",
       "      <td>1</td>\n",
       "      <td>3624</td>\n",
       "      <td>2</td>\n",
       "    </tr>\n",
       "    <tr>\n",
       "      <th>4</th>\n",
       "      <td>30</td>\n",
       "      <td>2356.0</td>\n",
       "      <td>1</td>\n",
       "      <td>1</td>\n",
       "      <td>3624</td>\n",
       "      <td>2</td>\n",
       "    </tr>\n",
       "  </tbody>\n",
       "</table>\n",
       "</div>"
      ],
      "text/plain": [
       "   Age  AnnualPremium  DrivingIncident  Gender  Income  stateregion\n",
       "0   16         5203.0                1       1    3624            2\n",
       "1   18         8127.0                1       1    3624            2\n",
       "2   20         5691.0                1       1    3624            2\n",
       "3   25         2807.0                1       1    3624            2\n",
       "4   30         2356.0                1       1    3624            2"
      ]
     },
     "execution_count": 26,
     "metadata": {},
     "output_type": "execute_result"
    }
   ],
   "source": [
    "# Display a few records\n",
    "df.head()"
   ]
  },
  {
   "cell_type": "markdown",
   "id": "f09f81fc",
   "metadata": {},
   "source": [
    "## Store Feature Matrix In X and Response in Vector y"
   ]
  },
  {
   "cell_type": "code",
   "execution_count": 27,
   "id": "90baa18b",
   "metadata": {},
   "outputs": [],
   "source": [
    "# Creating features (X) by dropping the 'AnnualPremium' column\n",
    "X = df.drop('AnnualPremium', axis=1)\n",
    "\n",
    "# Creating target variable (y) with the 'AnnualPremium' column\n",
    "y = df['AnnualPremium']"
   ]
  },
  {
   "cell_type": "markdown",
   "id": "4e198061",
   "metadata": {},
   "source": [
    "## Splitting Data Into The Training and Test Sets"
   ]
  },
  {
   "cell_type": "code",
   "execution_count": 28,
   "id": "a790fa7c",
   "metadata": {},
   "outputs": [],
   "source": [
    "# Splitting the data into training and testing sets\n",
    "X_train,X_test,y_train,y_test=train_test_split(X,y,test_size=0.20,random_state=42)"
   ]
  },
  {
   "cell_type": "markdown",
   "id": "51b918f8",
   "metadata": {},
   "source": [
    "## Normalization"
   ]
  },
  {
   "cell_type": "code",
   "execution_count": 29,
   "id": "16254eca",
   "metadata": {},
   "outputs": [],
   "source": [
    "# Creating a StandardScaler object\n",
    "sc = StandardScaler()"
   ]
  },
  {
   "cell_type": "code",
   "execution_count": 30,
   "id": "4a42a478",
   "metadata": {},
   "outputs": [],
   "source": [
    "# Scaling the features in the training set\n",
    "X_train = sc.fit_transform(X_train)\n",
    "\n",
    "# Scaling the features in the testing set\n",
    "X_test = sc.transform(X_test)"
   ]
  },
  {
   "cell_type": "code",
   "execution_count": 31,
   "id": "747c4e2e",
   "metadata": {},
   "outputs": [
    {
     "data": {
      "text/plain": [
       "array([[ 0.74204636,  1.35365831,  1.01111145, -0.55613342,  1.2359407 ],\n",
       "       [-0.89617064,  1.35365831, -0.98901066, -1.36172276,  0.33701024],\n",
       "       [-1.11459958,  1.35365831,  1.01111145, -0.47624026, -1.46085069],\n",
       "       ...,\n",
       "       [ 0.19597403,  1.35365831, -0.98901066, -1.23356082,  0.33701024],\n",
       "       [ 1.2881187 ,  0.46247355, -0.98901066, -1.26352075, -0.56192023],\n",
       "       [ 0.19597403,  0.46247355, -0.98901066, -0.55613342,  1.2359407 ]])"
      ]
     },
     "execution_count": 31,
     "metadata": {},
     "output_type": "execute_result"
    }
   ],
   "source": [
    "# Show the result of X_train\n",
    "X_train"
   ]
  },
  {
   "cell_type": "code",
   "execution_count": 32,
   "id": "89fbfb36",
   "metadata": {},
   "outputs": [
    {
     "data": {
      "text/plain": [
       "array([[ 0.74204636, -1.31989598, -0.98901066, -0.96225697,  0.33701024],\n",
       "       [ 1.83419103, -0.42871122, -0.98901066, -1.23356082,  0.33701024],\n",
       "       [ 1.83419103, -1.31989598,  1.01111145,  0.12795175,  1.2359407 ],\n",
       "       ...,\n",
       "       [-0.89617064,  0.46247355,  1.01111145,  0.59233073,  0.33701024],\n",
       "       [-0.89617064,  0.46247355, -0.98901066, -0.55613342,  1.2359407 ],\n",
       "       [-0.89617064, -0.42871122,  1.01111145, -1.05213677,  0.33701024]])"
      ]
     },
     "execution_count": 32,
     "metadata": {},
     "output_type": "execute_result"
    }
   ],
   "source": [
    "# Show the result of X_test\n",
    "X_test"
   ]
  },
  {
   "cell_type": "markdown",
   "id": "21681b2d",
   "metadata": {},
   "source": [
    "## Import The models"
   ]
  },
  {
   "cell_type": "code",
   "execution_count": 33,
   "id": "2d5eadbe",
   "metadata": {},
   "outputs": [],
   "source": [
    "# Import some necessary libraries/packages\n",
    "from sklearn.linear_model import LinearRegression\n",
    "from  sklearn.svm import SVR\n",
    "from sklearn.ensemble import RandomForestRegressor\n",
    "from sklearn.ensemble import GradientBoostingRegressor\n",
    "from xgboost import XGBRegressor\n",
    "from sklearn import metrics\n",
    "from sklearn.model_selection import train_test_split\n",
    "from sklearn.preprocessing import StandardScaler"
   ]
  },
  {
   "cell_type": "markdown",
   "id": "b38df1c5",
   "metadata": {},
   "source": [
    "## Training & Evaluation"
   ]
  },
  {
   "cell_type": "code",
   "execution_count": 34,
   "id": "64871975",
   "metadata": {},
   "outputs": [
    {
     "name": "stdout",
     "output_type": "stream",
     "text": [
      "R2 Score of lr: 0.32896647988900785\n",
      "MAE Score of lr: 1416.7370685155968\n"
     ]
    }
   ],
   "source": [
    "# create an instance of the LinearRegression \n",
    "lr = LinearRegression()\n",
    "\n",
    "# train the LinearRegression model (lr) on the training data \n",
    "lr.fit(X_train,y_train)\n",
    "\n",
    "# use the trained LinearRegression model (lr) to predict the test data \n",
    "y_pred_lr= lr.predict(X_test)\n",
    "\n",
    "# Print the results\n",
    "print('R2 Score of lr:', metrics.r2_score(y_test,y_pred_lr))\n",
    "print('MAE Score of lr:', metrics.mean_absolute_error(y_test, y_pred_lr))"
   ]
  },
  {
   "cell_type": "code",
   "execution_count": 35,
   "id": "865504e9",
   "metadata": {},
   "outputs": [
    {
     "name": "stdout",
     "output_type": "stream",
     "text": [
      "R2 Score of svm: -0.08906876134073083\n",
      "MAE Score of svm: 1679.5201318261393\n"
     ]
    }
   ],
   "source": [
    "# Repeat the same for SVM\n",
    "\n",
    "# Creating an SVR model\n",
    "svm = SVR()\n",
    "\n",
    "# Fitting the SVR model on the training data\n",
    "svm.fit(X_train, y_train)\n",
    "\n",
    "# Predicting the target variable for the test data\n",
    "y_pred_svm = svm.predict(X_test)\n",
    "\n",
    "# Calculating and printing the R2 score\n",
    "print('R2 Score of svm:', metrics.r2_score(y_test, y_pred_svm))\n",
    "\n",
    "# Calculating and printing the mean absolute error\n",
    "print('MAE Score of svm:', metrics.mean_absolute_error(y_test, y_pred_svm))"
   ]
  },
  {
   "cell_type": "code",
   "execution_count": 36,
   "id": "5a43bd7b",
   "metadata": {},
   "outputs": [
    {
     "name": "stdout",
     "output_type": "stream",
     "text": [
      "R2 Score of rf: 0.8916111315909813\n",
      "MAE Score of rf: 465.6122768359622\n"
     ]
    }
   ],
   "source": [
    "# Repeat the same for RF\n",
    "\n",
    "# Creating a RandomForestRegressor model\n",
    "rf = RandomForestRegressor()\n",
    "\n",
    "# Fitting the RandomForestRegressor model on the training data\n",
    "rf.fit(X_train, y_train)\n",
    "\n",
    "# Predicting the target variable for the test data\n",
    "y_pred_rf = rf.predict(X_test)\n",
    "\n",
    "# Calculating and printing the R2 score\n",
    "print('R2 Score of rf:', metrics.r2_score(y_test, y_pred_rf))\n",
    "\n",
    "# Calculating and printing the mean absolute error\n",
    "print('MAE Score of rf:', metrics.mean_absolute_error(y_test, y_pred_rf))"
   ]
  },
  {
   "cell_type": "code",
   "execution_count": 37,
   "id": "b5fed5cb",
   "metadata": {},
   "outputs": [
    {
     "name": "stdout",
     "output_type": "stream",
     "text": [
      "R2 Score of gr: 0.8782709175499571\n",
      "MAE Score of gr: 519.8352733322461\n"
     ]
    }
   ],
   "source": [
    "# Repeat the same for GBC\n",
    "\n",
    "# Creating a GradientBoostingRegressor model\n",
    "gr = GradientBoostingRegressor()\n",
    "\n",
    "# Fitting the GradientBoostingRegressor model on the training data\n",
    "gr.fit(X_train, y_train)\n",
    "\n",
    "# Predicting the target variable for the test data\n",
    "y_pred_gr = gr.predict(X_test)\n",
    "\n",
    "# Calculating and printing the R2 score\n",
    "print('R2 Score of gr:', metrics.r2_score(y_test, y_pred_gr))\n",
    "\n",
    "# Calculating and printing the mean absolute error\n",
    "print('MAE Score of gr:', metrics.mean_absolute_error(y_test, y_pred_gr))"
   ]
  },
  {
   "cell_type": "code",
   "execution_count": 38,
   "id": "12e3cf5c",
   "metadata": {},
   "outputs": [
    {
     "name": "stdout",
     "output_type": "stream",
     "text": [
      "R2 Score of xgb: 0.979119813776361\n",
      "MAE Score of xgb: 192.9757674830873\n"
     ]
    }
   ],
   "source": [
    "# Repeat the same for XGB\n",
    "\n",
    "# Creating an XGBRegressor model\n",
    "xgb = XGBRegressor()\n",
    "\n",
    "# Fitting the XGBRegressor model on the training data\n",
    "xgb.fit(X_train, y_train)\n",
    "\n",
    "# Predicting the target variable for the test data\n",
    "y_pred_xgb = xgb.predict(X_test)\n",
    "\n",
    "# Calculating and printing the R2 score\n",
    "print('R2 Score of xgb:', metrics.r2_score(y_test, y_pred_xgb))\n",
    "\n",
    "# Calculating and printing the mean absolute error\n",
    "print('MAE Score of xgb:', metrics.mean_absolute_error(y_test, y_pred_xgb))"
   ]
  },
  {
   "cell_type": "code",
   "execution_count": 39,
   "id": "0df46e8c",
   "metadata": {},
   "outputs": [],
   "source": [
    "# Creating a DataFrame to store R2 scores for different models\n",
    "df_R2 = pd.DataFrame({'Models':['LR','SVC','RF','GBC','XGB'],\n",
    "                           'R2_SCORE':[metrics.r2_score(y_test,y_pred_lr),\n",
    "                                       metrics.r2_score(y_test,y_pred_svm),\n",
    "                                       metrics.r2_score(y_test,y_pred_rf),\n",
    "                                       metrics.r2_score(y_test,y_pred_gr),\n",
    "                                       metrics.r2_score(y_test,y_pred_xgb)]})"
   ]
  },
  {
   "cell_type": "code",
   "execution_count": 40,
   "id": "c4938ee6",
   "metadata": {},
   "outputs": [
    {
     "data": {
      "text/html": [
       "<div>\n",
       "<style scoped>\n",
       "    .dataframe tbody tr th:only-of-type {\n",
       "        vertical-align: middle;\n",
       "    }\n",
       "\n",
       "    .dataframe tbody tr th {\n",
       "        vertical-align: top;\n",
       "    }\n",
       "\n",
       "    .dataframe thead th {\n",
       "        text-align: right;\n",
       "    }\n",
       "</style>\n",
       "<table border=\"1\" class=\"dataframe\">\n",
       "  <thead>\n",
       "    <tr style=\"text-align: right;\">\n",
       "      <th></th>\n",
       "      <th>Models</th>\n",
       "      <th>R2_SCORE</th>\n",
       "    </tr>\n",
       "  </thead>\n",
       "  <tbody>\n",
       "    <tr>\n",
       "      <th>0</th>\n",
       "      <td>LR</td>\n",
       "      <td>0.328966</td>\n",
       "    </tr>\n",
       "    <tr>\n",
       "      <th>1</th>\n",
       "      <td>SVC</td>\n",
       "      <td>-0.089069</td>\n",
       "    </tr>\n",
       "    <tr>\n",
       "      <th>2</th>\n",
       "      <td>RF</td>\n",
       "      <td>0.891611</td>\n",
       "    </tr>\n",
       "    <tr>\n",
       "      <th>3</th>\n",
       "      <td>GBC</td>\n",
       "      <td>0.878271</td>\n",
       "    </tr>\n",
       "    <tr>\n",
       "      <th>4</th>\n",
       "      <td>XGB</td>\n",
       "      <td>0.979120</td>\n",
       "    </tr>\n",
       "  </tbody>\n",
       "</table>\n",
       "</div>"
      ],
      "text/plain": [
       "  Models  R2_SCORE\n",
       "0     LR  0.328966\n",
       "1    SVC -0.089069\n",
       "2     RF  0.891611\n",
       "3    GBC  0.878271\n",
       "4    XGB  0.979120"
      ]
     },
     "execution_count": 40,
     "metadata": {},
     "output_type": "execute_result"
    }
   ],
   "source": [
    "# Displaying the DataFrame containing R2 scores for different models\n",
    "df_R2"
   ]
  },
  {
   "cell_type": "code",
   "execution_count": 41,
   "id": "8f0b6412",
   "metadata": {},
   "outputs": [
    {
     "data": {
      "image/png": "[encoded data removed]",
      "text/plain": [
       "<Figure size 640x480 with 1 Axes>"
      ]
     },
     "metadata": {},
     "output_type": "display_data"
    }
   ],
   "source": [
    "# Set the style of the plot\n",
    "sns.set(style=\"whitegrid\")\n",
    "\n",
    "# Create the bar plot\n",
    "ax = sns.barplot(x='R2_SCORE', y='Models', data=df_R2)\n",
    "\n",
    "# Adding labels and title\n",
    "plt.xlabel('R2 Score')\n",
    "plt.ylabel('Models')\n",
    "plt.title('R2 Score Comparison for Different Models')\n",
    "\n",
    "# Add text labels for each bar\n",
    "for index, row in df_R2.iterrows():\n",
    "    ax.text(row['R2_SCORE'], index, f'{row[\"R2_SCORE\"]:.3f}', va='center')\n",
    "\n",
    "# Display the plot\n",
    "plt.show()"
   ]
  },
  {
   "cell_type": "code",
   "execution_count": 42,
   "id": "9a8f2c84",
   "metadata": {},
   "outputs": [],
   "source": [
    "# Creating a DataFrame to store MAE scores for different models\n",
    "df_MAE = pd.DataFrame({'Models':['LR','SVC','RF','GBC','XGB'],\n",
    "                           'MAE_SCORE':[metrics.mean_absolute_error(y_test,y_pred_lr),\n",
    "                                       metrics.mean_absolute_error(y_test,y_pred_svm),\n",
    "                                       metrics.mean_absolute_error(y_test,y_pred_rf),\n",
    "                                       metrics.mean_absolute_error(y_test,y_pred_gr),\n",
    "                                       metrics.mean_absolute_error(y_test,y_pred_xgb)]})"
   ]
  },
  {
   "cell_type": "code",
   "execution_count": 43,
   "id": "05aceda2",
   "metadata": {},
   "outputs": [
    {
     "data": {
      "text/html": [
       "<div>\n",
       "<style scoped>\n",
       "    .dataframe tbody tr th:only-of-type {\n",
       "        vertical-align: middle;\n",
       "    }\n",
       "\n",
       "    .dataframe tbody tr th {\n",
       "        vertical-align: top;\n",
       "    }\n",
       "\n",
       "    .dataframe thead th {\n",
       "        text-align: right;\n",
       "    }\n",
       "</style>\n",
       "<table border=\"1\" class=\"dataframe\">\n",
       "  <thead>\n",
       "    <tr style=\"text-align: right;\">\n",
       "      <th></th>\n",
       "      <th>Models</th>\n",
       "      <th>MAE_SCORE</th>\n",
       "    </tr>\n",
       "  </thead>\n",
       "  <tbody>\n",
       "    <tr>\n",
       "      <th>0</th>\n",
       "      <td>LR</td>\n",
       "      <td>1416.737069</td>\n",
       "    </tr>\n",
       "    <tr>\n",
       "      <th>1</th>\n",
       "      <td>SVC</td>\n",
       "      <td>1679.520132</td>\n",
       "    </tr>\n",
       "    <tr>\n",
       "      <th>2</th>\n",
       "      <td>RF</td>\n",
       "      <td>465.612277</td>\n",
       "    </tr>\n",
       "    <tr>\n",
       "      <th>3</th>\n",
       "      <td>GBC</td>\n",
       "      <td>519.835273</td>\n",
       "    </tr>\n",
       "    <tr>\n",
       "      <th>4</th>\n",
       "      <td>XGB</td>\n",
       "      <td>192.975767</td>\n",
       "    </tr>\n",
       "  </tbody>\n",
       "</table>\n",
       "</div>"
      ],
      "text/plain": [
       "  Models    MAE_SCORE\n",
       "0     LR  1416.737069\n",
       "1    SVC  1679.520132\n",
       "2     RF   465.612277\n",
       "3    GBC   519.835273\n",
       "4    XGB   192.975767"
      ]
     },
     "execution_count": 43,
     "metadata": {},
     "output_type": "execute_result"
    }
   ],
   "source": [
    "# Displaying the DataFrame containing MAE scores for different models\n",
    "df_MAE"
   ]
  },
  {
   "cell_type": "code",
   "execution_count": 44,
   "id": "ac564225",
   "metadata": {},
   "outputs": [
    {
     "data": {
      "image/png": "[encoded data removed]",
      "text/plain": [
       "<Figure size 640x480 with 1 Axes>"
      ]
     },
     "metadata": {},
     "output_type": "display_data"
    }
   ],
   "source": [
    "# Set the style of the plot\n",
    "sns.set(style=\"whitegrid\")\n",
    "\n",
    "# Create the bar plot\n",
    "ax = sns.barplot(x='MAE_SCORE', y='Models', data=df_MAE)\n",
    "\n",
    "# Adding labels and title\n",
    "plt.xlabel('MAE Score')\n",
    "plt.ylabel('Models')\n",
    "plt.title('MAE Score Comparison for Different Models')\n",
    "\n",
    "# Add text labels for each bar\n",
    "for index, row in df_MAE.iterrows():\n",
    "    ax.text(row['MAE_SCORE'], index, f'{row[\"MAE_SCORE\"]:.3f}', va='center')\n",
    "\n",
    "# Display the plot\n",
    "plt.show()"
   ]
  },
  {
   "cell_type": "code",
   "execution_count": 51,
   "id": "747d8665",
   "metadata": {},
   "outputs": [],
   "source": [
    "# XGB Boosting model the best model for it has the highest R2 score, 97.9%, and lowest MAE score, 192.98."
   ]
  }
 ],
 "metadata": {
  "kernelspec": {
   "display_name": "Python 3 (ipykernel)",
   "language": "python",
   "name": "python3"
  },
  "language_info": {
   "codemirror_mode": {
    "name": "ipython",
    "version": 3
   },
   "file_extension": ".py",
   "mimetype": "text/x-python",
   "name": "python",
   "nbconvert_exporter": "python",
   "pygments_lexer": "ipython3",
   "version": "3.10.9"
  }
 },
 "nbformat": 4,
 "nbformat_minor": 5
}
